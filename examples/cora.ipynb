{
 "cells": [
  {
   "cell_type": "code",
   "execution_count": 1,
   "metadata": {
    "collapsed": true,
    "ExecuteTime": {
     "start_time": "2023-04-24T13:23:42.479285Z",
     "end_time": "2023-04-24T13:24:04.979135Z"
    }
   },
   "outputs": [
    {
     "name": "stdout",
     "output_type": "stream",
     "text": [
      "Using device: cuda:5\n",
      "Available memory: 15.75 GB\n"
     ]
    }
   ],
   "source": [
    "import sys\n",
    "\n",
    "import torch_geometric.transforms\n",
    "\n",
    "sys.path.append('../')\n",
    "\n",
    "import random\n",
    "from incidence_graph import IncidenceGraph\n",
    "import multignn\n",
    "import torch\n",
    "from tqdm import tqdm\n",
    "import torch.nn as nn\n",
    "import matplotlib.pyplot as plt\n",
    "import torch_geometric.datasets as datasets\n",
    "\n",
    "%matplotlib inline\n",
    "plt.rcParams['image.interpolation'] = 'nearest'\n",
    "plt.rcParams['image.cmap'] = 'gray'\n",
    "\n",
    "%load_ext autoreload\n",
    "%autoreload 2\n",
    "\n",
    "device = torch.device(f'cuda:5' if torch.cuda.is_available() else 'cpu')\n",
    "print(f'Using device: {device}')\n",
    "if device.type == 'cuda':\n",
    "    print(f'Available memory: {torch.cuda.get_device_properties(device).total_memory / 1024 ** 3 - torch.cuda.memory_allocated(device) / 1024 ** 3:.2f} GB')"
   ]
  },
  {
   "cell_type": "code",
   "execution_count": 2,
   "outputs": [
    {
     "name": "stdout",
     "output_type": "stream",
     "text": [
      "Graph shape: [2708, 5278]\n",
      "Categories: 7\n"
     ]
    }
   ],
   "source": [
    "DATA = datasets.Planetoid(name='Cora', root='cora_data')[0]\n",
    "G = IncidenceGraph()\n",
    "for edge in DATA.edge_index.T:\n",
    "    G.put_simplex((edge[0].item(), edge[1].item()))\n",
    "X = DATA.x.to(device=device)\n",
    "Y = DATA.y\n",
    "CATS = max(Y) + 1\n",
    "V = G.size(0)\n",
    "\n",
    "print(f'Graph shape: {G.shape()}')\n",
    "print(f'Categories: {CATS}')"
   ],
   "metadata": {
    "collapsed": false,
    "ExecuteTime": {
     "start_time": "2023-04-24T15:04:53.105215Z",
     "end_time": "2023-04-24T15:04:54.767901Z"
    }
   }
  },
  {
   "cell_type": "code",
   "execution_count": 3,
   "outputs": [],
   "source": [
    "MAX_DIST = 3\n",
    "Ds = [i for i in G.degree_lists(neighbor_dists=range(MAX_DIST + 1), rel_dims=[], node_list=range(V), pow=-1, add=1)[0].values()]\n",
    "edge_list = torch.as_tensor([list(range(V)), list(range(V))])\n",
    "As = G.sparse_matrices(neighbor_dists=range(MAX_DIST+1), rel_dims=[], dims=[0])\n",
    "for i in range(1, MAX_DIST+1):\n",
    "    diag = torch.sparse_coo_tensor(edge_list, Ds[i], size=(V, V)).coalesce()\n",
    "    As[i] = torch.sparse.mm(diag, As[i] + As[0]).to(device=device)"
   ],
   "metadata": {
    "collapsed": false,
    "ExecuteTime": {
     "start_time": "2023-04-24T15:04:59.894118Z",
     "end_time": "2023-04-24T15:05:01.444671Z"
    }
   }
  },
  {
   "cell_type": "code",
   "execution_count": 19,
   "outputs": [],
   "source": [
    "# run to change GPU\n",
    "for i in range(1, MAX_DIST+1):\n",
    "    As[i] = As[i].to(device=device)\n",
    "X = X.to(device=device)"
   ],
   "metadata": {
    "collapsed": false,
    "ExecuteTime": {
     "start_time": "2023-04-22T23:20:22.070102Z",
     "end_time": "2023-04-22T23:20:23.240829Z"
    }
   }
  },
  {
   "cell_type": "code",
   "execution_count": 4,
   "outputs": [],
   "source": [
    "def train(SEED, A_SIZE, D, EPOCHS, LOGGING, LAYERS=1):\n",
    "    random.seed(SEED)\n",
    "    torch.random.manual_seed(SEED)\n",
    "\n",
    "    A = As[1:A_SIZE+1]\n",
    "    layers = []\n",
    "    for i in range(LAYERS):\n",
    "        in_shape = X.shape[1] if i == 0 else D\n",
    "        output_func = nn.Sequential(nn.Linear(D, CATS), nn.LogSoftmax(dim=1)) if i == LAYERS - 1 else nn.Linear(D, D)\n",
    "        layers.append(multignn.MultiGraphLayer(vertex_agg_func=multignn.sparse_vertex_agg,\n",
    "                                               update_func= multignn.LinearMessageUpdate(in_shape, in_shape, D, activation_func=nn.ReLU(), use_bias=True),\n",
    "                                               output_func=output_func))\n",
    "    model = multignn.PartialForwardNN(*layers).to(device=device)\n",
    "    model.train()\n",
    "    opt = torch.optim.Adam(model.parameters(), lr=0.0001)\n",
    "    loss_func = nn.NLLLoss()\n",
    "    #sched = torch.optim.lr_scheduler.ReduceLROnPlateau(opt)\n",
    "\n",
    "    tr_losses = []\n",
    "    val_losses = []\n",
    "\n",
    "    it = range(EPOCHS)\n",
    "    if LOGGING == 0:\n",
    "        it = tqdm(it, desc='Training')\n",
    "    elif LOGGING == 1:\n",
    "        print('Epoch #: Train Loss, Validation Loss, Validation Accuracy')\n",
    "\n",
    "    for epoch in it:\n",
    "        opt.zero_grad()\n",
    "        output = model.forward(X, A).to(device='cpu')\n",
    "        loss = loss_func(output[DATA.train_mask], Y[DATA.train_mask])\n",
    "        loss.backward()\n",
    "        opt.step()\n",
    "        tr_losses.append(loss.item())\n",
    "\n",
    "        with torch.no_grad():\n",
    "            output = model.forward(X, A)[DATA.val_mask].to(device='cpu')\n",
    "            val_loss = loss_func(output, Y[DATA.val_mask])\n",
    "            val_losses.append(val_loss.item())\n",
    "            pred = torch.argmax(output, dim=1)\n",
    "            val_acc = (pred == Y[DATA.val_mask]).sum().item() / len(pred)\n",
    "            #sched.step(val_loss)\n",
    "\n",
    "        if LOGGING == 1:\n",
    "            print(f'Epoch {epoch + 1:4}\\t{loss.item():.8f}\\t{val_loss.item():.8f}\\t{val_acc:.3f}')\n",
    "\n",
    "    if LOGGING == 0:\n",
    "        it.close()\n",
    "\n",
    "    return model, tr_losses, val_losses"
   ],
   "metadata": {
    "collapsed": false,
    "ExecuteTime": {
     "start_time": "2023-04-24T15:05:05.032237Z",
     "end_time": "2023-04-24T15:05:05.076581Z"
    }
   }
  },
  {
   "cell_type": "code",
   "execution_count": 5,
   "outputs": [],
   "source": [
    "def plot(tr_losses, val_losses, start=0, filename=None):\n",
    "    xs = list(range(start, len(tr_losses)))\n",
    "    plt.rcParams['figure.figsize'] = (9.0, 6.0)\n",
    "    plt.plot(xs, tr_losses[start:], label='training loss')\n",
    "    plt.plot(xs, val_losses[start:], label='validation loss')\n",
    "    #plt.yscale('log', base=16)\n",
    "    plt.xlabel('Epochs')\n",
    "    plt.ylabel('Loss')\n",
    "    plt.title(f'Loss values from epochs {start + 1} to {len(tr_losses)}')\n",
    "    plt.legend()\n",
    "    if filename is not None:\n",
    "        plt.savefig(filename)\n",
    "    plt.show()"
   ],
   "metadata": {
    "collapsed": false,
    "ExecuteTime": {
     "start_time": "2023-04-24T15:05:07.058955Z",
     "end_time": "2023-04-24T15:05:07.074420Z"
    }
   }
  },
  {
   "cell_type": "code",
   "execution_count": 6,
   "outputs": [],
   "source": [
    "def test(model, A_SIZE):\n",
    "    A = As[1:A_SIZE+1]\n",
    "    model.eval()\n",
    "    output = model.forward(X, A).to(device='cpu')\n",
    "    pred = output[DATA.test_mask].argmax(dim=1)\n",
    "    acc = (pred == Y[DATA.test_mask]).sum().item() / len(pred)\n",
    "    return acc"
   ],
   "metadata": {
    "collapsed": false,
    "ExecuteTime": {
     "start_time": "2023-04-24T15:05:07.914156Z",
     "end_time": "2023-04-24T15:05:07.950830Z"
    }
   }
  },
  {
   "cell_type": "code",
   "execution_count": 39,
   "outputs": [
    {
     "name": "stdout",
     "output_type": "stream",
     "text": [
      "Epoch #: Train Loss, Validation Loss, Validation Accuracy\n",
      "Epoch    1\t1.94789565\t1.89588273\t0.564\t0.577\n",
      "Epoch    2\t1.79723954\t1.84044933\t0.714\t0.737\n",
      "Epoch    3\t1.65291715\t1.78603351\t0.740\t0.769\n",
      "Epoch    4\t1.51470685\t1.73231089\t0.752\t0.779\n",
      "Epoch    5\t1.38251448\t1.67902696\t0.760\t0.788\n",
      "Epoch    6\t1.25635505\t1.62603223\t0.768\t0.791\n",
      "Epoch    7\t1.13630867\t1.57325411\t0.770\t0.794\n",
      "Epoch    8\t1.02253067\t1.52071202\t0.770\t0.799\n",
      "Epoch    9\t0.91521180\t1.46851325\t0.768\t0.799\n",
      "Epoch   10\t0.81458533\t1.41682553\t0.764\t0.801\n",
      "Epoch   11\t0.72087830\t1.36588514\t0.764\t0.801\n",
      "Epoch   12\t0.63429481\t1.31596375\t0.762\t0.801\n",
      "Epoch   13\t0.55498916\t1.26736450\t0.762\t0.803\n",
      "Epoch   14\t0.48300454\t1.22039056\t0.762\t0.802\n",
      "Epoch   15\t0.41826522\t1.17532301\t0.762\t0.802\n",
      "Epoch   16\t0.36058277\t1.13242972\t0.766\t0.805\n",
      "Epoch   17\t0.30964240\t1.09193051\t0.766\t0.804\n",
      "Epoch   18\t0.26503339\t1.05399156\t0.770\t0.805\n",
      "Epoch   19\t0.22626868\t1.01871967\t0.768\t0.805\n",
      "Epoch   20\t0.19282553\t0.98616648\t0.774\t0.804\n",
      "Epoch   21\t0.16414887\t0.95632225\t0.774\t0.806\n",
      "Epoch   22\t0.13968998\t0.92913139\t0.774\t0.807\n",
      "Epoch   23\t0.11891883\t0.90449381\t0.774\t0.807\n",
      "Epoch   24\t0.10134231\t0.88228065\t0.774\t0.805\n",
      "Epoch   25\t0.08651118\t0.86233991\t0.774\t0.806\n",
      "Epoch   26\t0.07402159\t0.84449720\t0.774\t0.806\n",
      "Epoch   27\t0.06351642\t0.82857567\t0.774\t0.806\n",
      "Epoch   28\t0.05468361\t0.81439912\t0.772\t0.808\n",
      "Epoch   29\t0.04725629\t0.80179369\t0.770\t0.806\n",
      "Epoch   30\t0.04100655\t0.79059082\t0.770\t0.804\n"
     ]
    },
    {
     "data": {
      "text/plain": "<Figure size 648x432 with 1 Axes>",
      "image/png": "[encoded data removed]"
     },
     "metadata": {
      "needs_background": "light"
     },
     "output_type": "display_data"
    },
    {
     "name": "stdout",
     "output_type": "stream",
     "text": [
      "Test accuracy: 80.40\n"
     ]
    }
   ],
   "source": [
    "# 8192 30/35(3)\n",
    "# 32768 20/25/30(2), 10/15/20(3)\n",
    "# 65536 10/15/20(2,3)\n",
    "A_SIZE = 2\n",
    "model, tr_losses, val_losses = train(12312, A_SIZE, 32768, 30, 1)\n",
    "plot(tr_losses, val_losses)\n",
    "print(f'Test accuracy: {test(model, A_SIZE) * 100:.2f}')"
   ],
   "metadata": {
    "collapsed": false,
    "ExecuteTime": {
     "start_time": "2023-04-24T13:38:44.797293Z",
     "end_time": "2023-04-24T13:38:54.234110Z"
    }
   }
  },
  {
   "cell_type": "code",
   "execution_count": 12,
   "outputs": [
    {
     "name": "stderr",
     "output_type": "stream",
     "text": [
      "100%|█████████████████████████████████████████████████████████████████████████████████| 100/100 [17:15<00:00, 10.35s/it]"
     ]
    },
    {
     "name": "stdout",
     "output_type": "stream",
     "text": [
      "MEAN: 80.58\n",
      "MED: 80.60\n",
      "STDDEV: 0.19\n"
     ]
    },
    {
     "name": "stderr",
     "output_type": "stream",
     "text": [
      "\n"
     ]
    }
   ],
   "source": [
    "A_SIZE=3\n",
    "results = []\n",
    "for seed in tqdm(range(100)):\n",
    "    model, _, _ = train(seed, A_SIZE, 65536, 20, -1)\n",
    "    results.append(test(model, A_SIZE))\n",
    "print(f'MEAN: {torch.mean(torch.tensor(results)).item() * 100:.2f}')\n",
    "print(f'MED: {torch.median(torch.tensor(results)).item() * 100:.2f}')\n",
    "print(f'STDDEV: {torch.std(torch.tensor(results)).item() * 100:.2f}')"
   ],
   "metadata": {
    "collapsed": false,
    "ExecuteTime": {
     "start_time": "2023-04-24T15:55:44.717250Z",
     "end_time": "2023-04-24T16:13:00.193126Z"
    }
   }
  },
  {
   "cell_type": "code",
   "execution_count": null,
   "outputs": [],
   "source": [
    "\"\"\"\n",
    "best: ASIZE=2 epochs=15 D=65536  80.92 0.28\n",
    "    ASIZE=3 epochs=15 D=65536 80.92 0.20\n",
    "\"\"\""
   ],
   "metadata": {
    "collapsed": false
   }
  }
 ],
 "metadata": {
  "kernelspec": {
   "display_name": "Python 3",
   "language": "python",
   "name": "python3"
  },
  "language_info": {
   "codemirror_mode": {
    "name": "ipython",
    "version": 2
   },
   "file_extension": ".py",
   "mimetype": "text/x-python",
   "name": "python",
   "nbconvert_exporter": "python",
   "pygments_lexer": "ipython2",
   "version": "2.7.6"
  }
 },
 "nbformat": 4,
 "nbformat_minor": 0
}
