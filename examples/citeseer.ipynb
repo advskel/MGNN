{
 "cells": [
  {
   "cell_type": "code",
   "execution_count": 2,
   "metadata": {
    "collapsed": true,
    "ExecuteTime": {
     "end_time": "2023-05-10T00:23:45.280130Z",
     "start_time": "2023-05-10T00:23:45.228697900Z"
    }
   },
   "outputs": [
    {
     "name": "stdout",
     "output_type": "stream",
     "text": [
      "The autoreload extension is already loaded. To reload it, use:\n",
      "  %reload_ext autoreload\n",
      "Using device: cuda\n",
      "Available memory: 11.90 GB\n"
     ]
    }
   ],
   "source": [
    "import sys\n",
    "\n",
    "import torch_geometric.transforms\n",
    "\n",
    "sys.path.append('../')\n",
    "\n",
    "import random\n",
    "from incidence_graph import IncidenceGraph\n",
    "import multignn\n",
    "import torch\n",
    "from tqdm import tqdm\n",
    "import torch.nn as nn\n",
    "import matplotlib.pyplot as plt\n",
    "import torch_geometric.datasets as datasets\n",
    "\n",
    "%matplotlib inline\n",
    "plt.rcParams['image.interpolation'] = 'nearest'\n",
    "plt.rcParams['image.cmap'] = 'gray'\n",
    "\n",
    "%load_ext autoreload\n",
    "%autoreload 2\n",
    "\n",
    "device = torch.device(f'cuda' if torch.cuda.is_available() else 'cpu')\n",
    "print(f'Using device: {device}')\n",
    "if device.type == 'cuda':\n",
    "    print(f'Available memory: {torch.cuda.get_device_properties(device).total_memory / 1024 ** 3 - torch.cuda.memory_allocated(device) / 1024 ** 3:.2f} GB')"
   ]
  },
  {
   "cell_type": "code",
   "execution_count": 3,
   "outputs": [
    {
     "name": "stderr",
     "output_type": "stream",
     "text": [
      "Downloading https://github.com/kimiyoung/planetoid/raw/master/data/ind.citeseer.x\n",
      "Downloading https://github.com/kimiyoung/planetoid/raw/master/data/ind.citeseer.tx\n",
      "Downloading https://github.com/kimiyoung/planetoid/raw/master/data/ind.citeseer.allx\n",
      "Downloading https://github.com/kimiyoung/planetoid/raw/master/data/ind.citeseer.y\n",
      "Downloading https://github.com/kimiyoung/planetoid/raw/master/data/ind.citeseer.ty\n",
      "Downloading https://github.com/kimiyoung/planetoid/raw/master/data/ind.citeseer.ally\n",
      "Downloading https://github.com/kimiyoung/planetoid/raw/master/data/ind.citeseer.graph\n",
      "Downloading https://github.com/kimiyoung/planetoid/raw/master/data/ind.citeseer.test.index\n",
      "Processing...\n",
      "Done!\n"
     ]
    },
    {
     "name": "stdout",
     "output_type": "stream",
     "text": [
      "Graph shape: [3327, 4552]\n",
      "Categories: 6\n"
     ]
    }
   ],
   "source": [
    "DATA = datasets.Planetoid(name='CiteSeer', root='citeseer_data')[0]\n",
    "G = IncidenceGraph()\n",
    "for edge in DATA.edge_index.T:\n",
    "    G.put_simplex((edge[0].item(), edge[1].item()))\n",
    "X = DATA.x.to(device=device)\n",
    "Y = DATA.y\n",
    "CATS = max(Y) + 1\n",
    "V = G.size(0)\n",
    "\n",
    "print(f'Graph shape: {G.shape()}')\n",
    "print(f'Categories: {CATS}')"
   ],
   "metadata": {
    "collapsed": false,
    "ExecuteTime": {
     "end_time": "2023-05-10T00:23:51.708785300Z",
     "start_time": "2023-05-10T00:23:48.197601800Z"
    }
   }
  },
  {
   "cell_type": "code",
   "execution_count": 6,
   "outputs": [],
   "source": [
    "MAX_DIST = 4\n",
    "Ds = [i for i in G.degree_lists(neighbor_dists=range(MAX_DIST + 1), rel_dims=[], node_list=range(V), pow=-1, add=1)[0].values()]\n",
    "edge_list = torch.as_tensor([list(range(V)), list(range(V))])\n",
    "As = G.sparse_matrices(neighbor_dists=range(MAX_DIST+1), rel_dims=[], dims=[0])\n",
    "for i in range(1, MAX_DIST+1):\n",
    "    diag = torch.sparse_coo_tensor(edge_list, Ds[i], size=(V, V)).coalesce()\n",
    "    As[i] = torch.sparse.mm(diag, As[i] + As[0]).to(device=device)"
   ],
   "metadata": {
    "collapsed": false,
    "ExecuteTime": {
     "end_time": "2023-05-10T00:24:13.619078300Z",
     "start_time": "2023-05-10T00:24:12.111691700Z"
    }
   }
  },
  {
   "cell_type": "code",
   "execution_count": 19,
   "outputs": [],
   "source": [
    "# run to change GPU\n",
    "for i in range(1, MAX_DIST+1):\n",
    "    As[i] = As[i].to(device=device)\n",
    "X = X.to(device=device)"
   ],
   "metadata": {
    "collapsed": false,
    "ExecuteTime": {
     "start_time": "2023-04-22T23:20:22.070102Z",
     "end_time": "2023-04-22T23:20:23.240829Z"
    }
   }
  },
  {
   "cell_type": "code",
   "execution_count": 7,
   "outputs": [],
   "source": [
    "def train(SEED, A_SIZE, D, EPOCHS, LOGGING, LAYERS=1):\n",
    "    random.seed(SEED)\n",
    "    torch.random.manual_seed(SEED)\n",
    "\n",
    "    A = As[1:A_SIZE+1]\n",
    "    layers = []\n",
    "    for i in range(LAYERS):\n",
    "        in_shape = X.shape[1] if i == 0 else D\n",
    "        output_func = nn.Sequential(nn.Linear(D, CATS), nn.LogSoftmax(dim=1)) if i == LAYERS - 1 else None\n",
    "        layers.append(multignn.MultiGraphLayer(vertex_agg_func=multignn.sparse_vertex_agg,\n",
    "                                               update_func= multignn.LinearMessageUpdate(in_shape, in_shape, D, activation_func=nn.ReLU(), use_bias=True),\n",
    "                                               output_func=output_func))\n",
    "    model = multignn.PartialForwardNN(*layers).to(device=device)\n",
    "    model.train()\n",
    "    opt = torch.optim.Adam(model.parameters(), lr=0.0001)\n",
    "    loss_func = nn.NLLLoss()\n",
    "    #sched = torch.optim.lr_scheduler.ReduceLROnPlateau(opt)\n",
    "\n",
    "    tr_losses = []\n",
    "    val_losses = []\n",
    "\n",
    "    it = range(EPOCHS)\n",
    "    if LOGGING == 0:\n",
    "        it = tqdm(it, desc='Training')\n",
    "    elif LOGGING == 1:\n",
    "        print('Epoch #: Train Loss, Validation Loss, Validation Accuracy')\n",
    "\n",
    "    for epoch in it:\n",
    "        opt.zero_grad()\n",
    "        output = model.forward(X, A).to(device='cpu')\n",
    "        loss = loss_func(output[DATA.train_mask], Y[DATA.train_mask])\n",
    "        loss.backward()\n",
    "        opt.step()\n",
    "        tr_losses.append(loss.item())\n",
    "\n",
    "        with torch.no_grad():\n",
    "            output = model.forward(X, A)[DATA.val_mask].to(device='cpu')\n",
    "            val_loss = loss_func(output, Y[DATA.val_mask])\n",
    "            val_losses.append(val_loss.item())\n",
    "            pred = torch.argmax(output, dim=1)\n",
    "            val_acc = (pred == Y[DATA.val_mask]).sum().item() / len(pred)\n",
    "            #sched.step(val_loss)\n",
    "\n",
    "        if LOGGING == 1:\n",
    "            print(f'Epoch {epoch + 1:4}\\t{loss.item():.8f}\\t{val_loss.item():.8f}\\t{val_acc:.3f}')\n",
    "\n",
    "    if LOGGING == 0:\n",
    "        it.close()\n",
    "\n",
    "    return model, tr_losses, val_losses"
   ],
   "metadata": {
    "collapsed": false,
    "ExecuteTime": {
     "end_time": "2023-05-10T00:24:16.910728400Z",
     "start_time": "2023-05-10T00:24:16.877209400Z"
    }
   }
  },
  {
   "cell_type": "code",
   "execution_count": 8,
   "outputs": [],
   "source": [
    "def plot(tr_losses, val_losses, start=0, filename=None):\n",
    "    xs = list(range(start, len(tr_losses)))\n",
    "    plt.rcParams['figure.figsize'] = (9.0, 6.0)\n",
    "    plt.plot(xs, tr_losses[start:], label='training loss')\n",
    "    plt.plot(xs, val_losses[start:], label='validation loss')\n",
    "    #plt.yscale('log', base=16)\n",
    "    plt.xlabel('Epochs')\n",
    "    plt.ylabel('Loss')\n",
    "    plt.title(f'Loss values from epochs {start + 1} to {len(tr_losses)}')\n",
    "    plt.legend()\n",
    "    if filename is not None:\n",
    "        plt.savefig(filename)\n",
    "    plt.show()"
   ],
   "metadata": {
    "collapsed": false,
    "ExecuteTime": {
     "end_time": "2023-05-10T00:24:18.577392700Z",
     "start_time": "2023-05-10T00:24:18.536385Z"
    }
   }
  },
  {
   "cell_type": "code",
   "execution_count": 9,
   "outputs": [],
   "source": [
    "def test(model, A_SIZE):\n",
    "    A = As[1:A_SIZE+1]\n",
    "    model.eval()\n",
    "    output = model.forward(X, A).to(device='cpu')\n",
    "    pred = output[DATA.test_mask].argmax(dim=1)\n",
    "    acc = (pred == Y[DATA.test_mask]).sum().item() / len(pred)\n",
    "    return acc"
   ],
   "metadata": {
    "collapsed": false,
    "ExecuteTime": {
     "end_time": "2023-05-10T00:24:19.432060200Z",
     "start_time": "2023-05-10T00:24:19.395140100Z"
    }
   }
  },
  {
   "cell_type": "code",
   "execution_count": 10,
   "outputs": [
    {
     "name": "stderr",
     "output_type": "stream",
     "text": [
      "Training: 100%|███████████████████████████████████████████████████████████████████████████████████████████████████████████████████████████| 10/10 [00:06<00:00,  1.58it/s]\n"
     ]
    },
    {
     "data": {
      "text/plain": "<Figure size 648x432 with 1 Axes>",
      "image/png": "[encoded data removed]"
     },
     "metadata": {
      "needs_background": "light"
     },
     "output_type": "display_data"
    },
    {
     "name": "stdout",
     "output_type": "stream",
     "text": [
      "Test accuracy: 69.90\n"
     ]
    }
   ],
   "source": [
    "# 1024- 30(3,5)/25(4)/40(2) epochs\n",
    "# 512 - 65 epochs\n",
    "# 256 - 70(3),55(4) 60? 45?\n",
    "#2048 23(4)\n",
    "#4096 10(4)\n",
    "A_SIZE = 4\n",
    "model, tr_losses, val_losses = train(0, A_SIZE, 8192, 10, 0)\n",
    "plot(tr_losses, val_losses)\n",
    "print(f'Test accuracy: {test(model, A_SIZE) * 100:.2f}')"
   ],
   "metadata": {
    "collapsed": false,
    "ExecuteTime": {
     "end_time": "2023-05-10T00:24:44.957102500Z",
     "start_time": "2023-05-10T00:24:37.546396200Z"
    }
   }
  },
  {
   "cell_type": "code",
   "execution_count": 11,
   "outputs": [
    {
     "name": "stderr",
     "output_type": "stream",
     "text": [
      "100%|███████████████████████████████████████████████████████████████████████████████████████████████████████████████████████████████████| 100/100 [11:23<00:00,  6.84s/it]"
     ]
    },
    {
     "name": "stdout",
     "output_type": "stream",
     "text": [
      "MEAN: 69.62\n",
      "MED: 69.60\n",
      "STDDEV: 0.46\n"
     ]
    },
    {
     "name": "stderr",
     "output_type": "stream",
     "text": [
      "\n"
     ]
    }
   ],
   "source": [
    "A_SIZE=4\n",
    "results = []\n",
    "for seed in tqdm(range(100)):\n",
    "    model, _, _ = train(seed, A_SIZE, 8192, 10, -1)\n",
    "    results.append(test(model, A_SIZE))\n",
    "print(f'MEAN: {torch.mean(torch.tensor(results)).item() * 100:.2f}')\n",
    "print(f'MED: {torch.median(torch.tensor(results)).item() * 100:.2f}')\n",
    "print(f'STDDEV: {torch.std(torch.tensor(results)).item() * 100:.2f}')"
   ],
   "metadata": {
    "collapsed": false,
    "ExecuteTime": {
     "end_time": "2023-05-10T00:36:21.912458800Z",
     "start_time": "2023-05-10T00:24:58.124359800Z"
    }
   }
  },
  {
   "cell_type": "code",
   "execution_count": null,
   "outputs": [],
   "source": [
    "\"\"\"\n",
    "best: ASIZE=4 epochs=10 D=8192  69.62 0.46 69.60\n",
    "\"\"\""
   ],
   "metadata": {
    "collapsed": false
   }
  }
 ],
 "metadata": {
  "kernelspec": {
   "display_name": "Python 3",
   "language": "python",
   "name": "python3"
  },
  "language_info": {
   "codemirror_mode": {
    "name": "ipython",
    "version": 2
   },
   "file_extension": ".py",
   "mimetype": "text/x-python",
   "name": "python",
   "nbconvert_exporter": "python",
   "pygments_lexer": "ipython2",
   "version": "2.7.6"
  }
 },
 "nbformat": 4,
 "nbformat_minor": 0
}
