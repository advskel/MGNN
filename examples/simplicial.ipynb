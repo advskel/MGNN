{
 "cells": [
  {
   "cell_type": "code",
   "execution_count": 1,
   "metadata": {
    "collapsed": true,
    "ExecuteTime": {
     "end_time": "2023-05-10T14:47:07.397916300Z",
     "start_time": "2023-05-10T14:46:59.783113900Z"
    }
   },
   "outputs": [
    {
     "name": "stdout",
     "output_type": "stream",
     "text": [
      "Using device: cuda:4\n",
      "Available memory: 15.75 GB\n"
     ]
    }
   ],
   "source": [
    "import sys\n",
    "\n",
    "import torch_geometric.transforms\n",
    "\n",
    "sys.path.append('../')\n",
    "\n",
    "import random\n",
    "from incidence_graph import IncidenceGraph\n",
    "import multignn\n",
    "import torch\n",
    "from tqdm import tqdm\n",
    "import torch.nn as nn\n",
    "import matplotlib.pyplot as plt\n",
    "import s2ag\n",
    "import scipy.stats as stats\n",
    "import numpy as np\n",
    "\n",
    "\n",
    "%matplotlib inline\n",
    "plt.rcParams['image.interpolation'] = 'nearest'\n",
    "plt.rcParams['image.cmap'] = 'gray'\n",
    "\n",
    "%load_ext autoreload\n",
    "%autoreload 2\n",
    "\n",
    "device = torch.device(f'cuda:4' if torch.cuda.is_available() else 'cpu')\n",
    "print(f'Using device: {device}')\n",
    "if device.type == 'cuda':\n",
    "    print(f'Available memory: {torch.cuda.get_device_properties(device).total_memory / 1024 ** 3 - torch.cuda.memory_allocated(device) / 1024 ** 3:.2f} GB')"
   ]
  },
  {
   "cell_type": "code",
   "execution_count": 2,
   "outputs": [
    {
     "name": "stderr",
     "output_type": "stream",
     "text": [
      "Populating graph (papers: 1300, authors: 2402, queue: 9421): : 100819it [12:35, 133.51it/s]                                                                               "
     ]
    },
    {
     "name": "stdout",
     "output_type": "stream",
     "text": [
      "Graph shape: [2406, 9203, 17987, 23662, 22290, 15146, 7275, 2350, 459, 41]\n"
     ]
    },
    {
     "name": "stderr",
     "output_type": "stream",
     "text": [
      "\n"
     ]
    }
   ],
   "source": [
    "random.seed(0)\n",
    "G = s2ag.generate(MAX_SIZE=100000, P=0.5)\n",
    "print(f'Graph shape: {G.shape()}')\n",
    "data = []\n",
    "for _, val_mask in G:\n",
    "    data.append(0 if val_mask is None else val_mask)\n",
    "Y = torch.tensor(data, dtype=torch.float32).view(-1, 1)"
   ],
   "metadata": {
    "collapsed": false,
    "ExecuteTime": {
     "end_time": "2023-05-10T15:00:00.440901100Z",
     "start_time": "2023-05-10T14:47:24.807971200Z"
    }
   }
  },
  {
   "cell_type": "code",
   "execution_count": 58,
   "outputs": [],
   "source": [
    "random.seed(0)\n",
    "MAX_DIM_ZEROED = 3\n",
    "PROPORTION = 0.3\n",
    "TRAIN_SIZE = 0.6\n",
    "VAL_SIZE = 0.2\n",
    "\n",
    "total_size = sum([G.size(i) for i in range(MAX_DIM_ZEROED)])\n",
    "zero_out = random.sample(list(range(total_size)), int(total_size * PROPORTION))\n",
    "N = len(zero_out)\n",
    "X = Y.clone().detach().to(device=device, dtype=torch.float32)\n",
    "X[zero_out] = 0\n",
    "\n",
    "train_mask = zero_out[:int(N * TRAIN_SIZE)]\n",
    "val_mask = zero_out[int(N * TRAIN_SIZE):int(N * (TRAIN_SIZE + VAL_SIZE))]\n",
    "test_mask = zero_out[int(N * (TRAIN_SIZE + VAL_SIZE)):]"
   ],
   "metadata": {
    "collapsed": false,
    "ExecuteTime": {
     "end_time": "2023-05-10T20:11:03.208748900Z",
     "start_time": "2023-05-10T20:11:03.155131600Z"
    }
   }
  },
  {
   "cell_type": "code",
   "execution_count": 91,
   "outputs": [],
   "source": [
    "def train(SEED, D, EPOCHS, LOGGING, A_SIZE, LAYERS=1):\n",
    "    random.seed(SEED)\n",
    "    torch.random.manual_seed(SEED)\n",
    "    A = G.sparse_matrices(neighbor_dists=[], rel_dims=range(-1, -A_SIZE, -1))\n",
    "    for i in range(len(A)):\n",
    "        A[i] = A[i].to(device=device)\n",
    "    layers = []\n",
    "    for i in range(LAYERS):\n",
    "        in_d = 1 if i == 0 else D\n",
    "        output_func = nn.Linear(D, 1) if i == LAYERS - 1 else None\n",
    "        layers.append(multignn.MultiGraphLayer(vertex_agg_func=multignn.sparse_vertex_agg,\n",
    "                                               graph_agg_func=multignn.LinearGraphAggregate(len(A), in_d, D, activation_func=nn.LeakyReLU(), use_bias=True),\n",
    "                                               update_func= multignn.LinearMessageUpdate(in_d, D, D, activation_func=nn.LeakyReLU(), use_bias=True),\n",
    "                                               output_func=output_func))\n",
    "    model = multignn.PartialForwardNN(*layers).to(device=device)\n",
    "    model.train()\n",
    "    opt = torch.optim.Adam(model.parameters(), lr=0.001)\n",
    "    loss_func = nn.L1Loss()\n",
    "    print(sum(sum(p for p in param.size()) for param in model.parameters()))\n",
    "    #sched = torch.optim.lr_scheduler.ReduceLROnPlateau(opt)\n",
    "\n",
    "    tr_losses = []\n",
    "    val_losses = []\n",
    "\n",
    "    it = range(EPOCHS)\n",
    "    if LOGGING == 0:\n",
    "        it = tqdm(it, desc='Training')\n",
    "    elif LOGGING == 1:\n",
    "        print('Epoch #: Train Loss, Validation Loss, Validation Accuracy')\n",
    "\n",
    "    for epoch in it:\n",
    "        opt.zero_grad()\n",
    "        output = model.forward(X, A).to(device='cpu')\n",
    "        loss = loss_func(output[train_mask], Y[train_mask])\n",
    "        loss.backward()\n",
    "        opt.step()\n",
    "        tr_losses.append(loss.item())\n",
    "\n",
    "        with torch.no_grad():\n",
    "            output = model.forward(X, A)[val_mask].to(device='cpu')\n",
    "            val_loss = loss_func(output, Y[val_mask])\n",
    "            val_losses.append(val_loss.item())\n",
    "            #sched.step(val_loss)\n",
    "\n",
    "        if LOGGING == 1:\n",
    "            print(f'Epoch {epoch + 1:4}\\t{loss.item():.8f}\\t{val_loss.item():.8f}')\n",
    "\n",
    "        # acc, _, rel = test(model, A, logging=0)\n",
    "        # if epoch % 100 == 0:\n",
    "        #     print(f'Epoch {epoch + 1:4}\\t{acc:.8f}\\t{np.median(rel):.8f}')\n",
    "        # model.train()\n",
    "\n",
    "    if LOGGING == 0:\n",
    "        it.close()\n",
    "\n",
    "    return model, tr_losses, val_losses, A"
   ],
   "metadata": {
    "collapsed": false,
    "ExecuteTime": {
     "end_time": "2023-05-11T01:45:06.386431Z",
     "start_time": "2023-05-11T01:45:06.356450400Z"
    }
   }
  },
  {
   "cell_type": "code",
   "execution_count": 37,
   "outputs": [],
   "source": [
    "def plot(tr_losses, val_losses, start=0, filename=None):\n",
    "    xs = list(range(start, len(tr_losses)))\n",
    "    plt.plot(xs, tr_losses[start:], label='training loss')\n",
    "    plt.plot(xs, val_losses[start:], label='validation loss')\n",
    "    plt.xlabel('Epochs')\n",
    "    plt.ylabel('Loss')\n",
    "    plt.title(f'Loss values from epochs {start + 1} to {len(tr_losses)}')\n",
    "    plt.legend()\n",
    "    if filename is not None:\n",
    "        plt.savefig(filename)\n",
    "    plt.show()"
   ],
   "metadata": {
    "collapsed": false,
    "ExecuteTime": {
     "end_time": "2023-05-10T19:15:06.568666400Z",
     "start_time": "2023-05-10T19:15:06.237600200Z"
    }
   }
  },
  {
   "cell_type": "code",
   "execution_count": 6,
   "outputs": [],
   "source": [
    "def test(model, A, threshold=10, logging=1):\n",
    "    model.eval()\n",
    "    output = model.forward(X, A).to(device='cpu')\n",
    "    abs_err = []\n",
    "    rel_err = []\n",
    "    for i in test_mask:\n",
    "        abs_err.append(abs(output[i].item() - Y[i].item()))\n",
    "        rel_err.append(abs(output[i].item() - Y[i].item()) / Y[i].item() * 100)\n",
    "\n",
    "    if logging == 1:\n",
    "        print(f'{len(abs_err)} samples in test set')\n",
    "        print(f'Mean absolute error: {np.mean(abs_err)}, {np.std(abs_err)}')\n",
    "        print(f'Median absolute error: {np.median(abs_err)}, {stats.iqr(abs_err)}')\n",
    "        print(f'Range of absolute error: {min(abs_err)}, {max(abs_err)}')\n",
    "        print(f'Mean relative error %: {np.mean(rel_err)}, {np.std(rel_err)}')\n",
    "        print(f'Median relative error %: {np.median(rel_err)}, {stats.iqr(rel_err)}')\n",
    "        print(f'Range of relative error %: {min(rel_err)}, {max(rel_err)}')\n",
    "\n",
    "    acc = sum([1 if rel_err[i] < threshold else 0 for i in range(len(rel_err))]) / len(rel_err)*100\n",
    "    if logging == 1:\n",
    "        print(f'Accuracy: {acc}')\n",
    "\n",
    "    return acc, abs_err, rel_err\n"
   ],
   "metadata": {
    "collapsed": false,
    "ExecuteTime": {
     "end_time": "2023-05-10T15:02:26.925186700Z",
     "start_time": "2023-05-10T15:02:26.739374300Z"
    }
   }
  },
  {
   "cell_type": "code",
   "execution_count": 38,
   "outputs": [],
   "source": [
    "def hist(data, filename=None):\n",
    "    plt.hist(data, density=True)\n",
    "    plt.xlabel('Relative error %')\n",
    "    plt.ylabel('% of samples')\n",
    "    plt.title('Relative error distribution')\n",
    "    if filename is not None:\n",
    "        plt.savefig(filename)\n",
    "    plt.show()"
   ],
   "metadata": {
    "collapsed": false,
    "ExecuteTime": {
     "end_time": "2023-05-10T19:15:09.391263100Z",
     "start_time": "2023-05-10T19:15:09.354551400Z"
    }
   }
  },
  {
   "cell_type": "code",
   "execution_count": 92,
   "outputs": [
    {
     "name": "stderr",
     "output_type": "stream",
     "text": [
      "Training:   0%|▏                                                                                                                         | 5/2500 [00:00<00:51, 48.53it/s]"
     ]
    },
    {
     "name": "stdout",
     "output_type": "stream",
     "text": [
      "87\n"
     ]
    },
    {
     "name": "stderr",
     "output_type": "stream",
     "text": [
      "Training:   6%|██████▋                                                                                                                 | 140/2500 [00:03<00:52, 44.95it/s]\n"
     ]
    },
    {
     "ename": "KeyboardInterrupt",
     "evalue": "",
     "output_type": "error",
     "traceback": [
      "\u001B[0;31m---------------------------------------------------------------------------\u001B[0m",
      "\u001B[0;31mKeyboardInterrupt\u001B[0m                         Traceback (most recent call last)",
      "\u001B[0;32m/tmp/ipykernel_1713582/429835861.py\u001B[0m in \u001B[0;36m<module>\u001B[0;34m\u001B[0m\n\u001B[1;32m      1\u001B[0m \u001B[0;31m# restriction: # params < input size, D=64/17500 32/25000\u001B[0m\u001B[0;34m\u001B[0m\u001B[0;34m\u001B[0m\u001B[0m\n\u001B[0;32m----> 2\u001B[0;31m \u001B[0mmodel\u001B[0m\u001B[0;34m,\u001B[0m \u001B[0mtr_losses\u001B[0m\u001B[0;34m,\u001B[0m \u001B[0mval_losses\u001B[0m\u001B[0;34m,\u001B[0m \u001B[0mA\u001B[0m \u001B[0;34m=\u001B[0m \u001B[0mtrain\u001B[0m\u001B[0;34m(\u001B[0m\u001B[0;36m0\u001B[0m\u001B[0;34m,\u001B[0m \u001B[0;36m8\u001B[0m\u001B[0;34m,\u001B[0m \u001B[0;36m2500\u001B[0m\u001B[0;34m,\u001B[0m \u001B[0;36m0\u001B[0m\u001B[0;34m,\u001B[0m \u001B[0;36m10\u001B[0m\u001B[0;34m,\u001B[0m \u001B[0;36m1\u001B[0m\u001B[0;34m)\u001B[0m\u001B[0;34m\u001B[0m\u001B[0;34m\u001B[0m\u001B[0m\n\u001B[0m\u001B[1;32m      3\u001B[0m \u001B[0m_\u001B[0m\u001B[0;34m,\u001B[0m \u001B[0m_\u001B[0m\u001B[0;34m,\u001B[0m \u001B[0mrel\u001B[0m \u001B[0;34m=\u001B[0m \u001B[0mtest\u001B[0m\u001B[0;34m(\u001B[0m\u001B[0mmodel\u001B[0m\u001B[0;34m,\u001B[0m \u001B[0mA\u001B[0m\u001B[0;34m)\u001B[0m\u001B[0;34m\u001B[0m\u001B[0;34m\u001B[0m\u001B[0m\n\u001B[1;32m      4\u001B[0m \u001B[0mplot\u001B[0m\u001B[0;34m(\u001B[0m\u001B[0mtr_losses\u001B[0m\u001B[0;34m,\u001B[0m \u001B[0mval_losses\u001B[0m\u001B[0;34m)\u001B[0m\u001B[0;34m\u001B[0m\u001B[0;34m\u001B[0m\u001B[0m\n\u001B[1;32m      5\u001B[0m \u001B[0mhist\u001B[0m\u001B[0;34m(\u001B[0m\u001B[0mrel\u001B[0m\u001B[0;34m)\u001B[0m\u001B[0;34m\u001B[0m\u001B[0;34m\u001B[0m\u001B[0m\n",
      "\u001B[0;32m/tmp/ipykernel_1713582/4101088087.py\u001B[0m in \u001B[0;36mtrain\u001B[0;34m(SEED, D, EPOCHS, LOGGING, A_SIZE, LAYERS)\u001B[0m\n\u001B[1;32m     32\u001B[0m         \u001B[0mopt\u001B[0m\u001B[0;34m.\u001B[0m\u001B[0mzero_grad\u001B[0m\u001B[0;34m(\u001B[0m\u001B[0;34m)\u001B[0m\u001B[0;34m\u001B[0m\u001B[0;34m\u001B[0m\u001B[0m\n\u001B[1;32m     33\u001B[0m         \u001B[0moutput\u001B[0m \u001B[0;34m=\u001B[0m \u001B[0mmodel\u001B[0m\u001B[0;34m.\u001B[0m\u001B[0mforward\u001B[0m\u001B[0;34m(\u001B[0m\u001B[0mX\u001B[0m\u001B[0;34m,\u001B[0m \u001B[0mA\u001B[0m\u001B[0;34m)\u001B[0m\u001B[0;34m.\u001B[0m\u001B[0mto\u001B[0m\u001B[0;34m(\u001B[0m\u001B[0mdevice\u001B[0m\u001B[0;34m=\u001B[0m\u001B[0;34m'cpu'\u001B[0m\u001B[0;34m)\u001B[0m\u001B[0;34m\u001B[0m\u001B[0;34m\u001B[0m\u001B[0m\n\u001B[0;32m---> 34\u001B[0;31m         \u001B[0mloss\u001B[0m \u001B[0;34m=\u001B[0m \u001B[0mloss_func\u001B[0m\u001B[0;34m(\u001B[0m\u001B[0moutput\u001B[0m\u001B[0;34m[\u001B[0m\u001B[0mtrain_mask\u001B[0m\u001B[0;34m]\u001B[0m\u001B[0;34m,\u001B[0m \u001B[0mY\u001B[0m\u001B[0;34m[\u001B[0m\u001B[0mtrain_mask\u001B[0m\u001B[0;34m]\u001B[0m\u001B[0;34m)\u001B[0m\u001B[0;34m\u001B[0m\u001B[0;34m\u001B[0m\u001B[0m\n\u001B[0m\u001B[1;32m     35\u001B[0m         \u001B[0mloss\u001B[0m\u001B[0;34m.\u001B[0m\u001B[0mbackward\u001B[0m\u001B[0;34m(\u001B[0m\u001B[0;34m)\u001B[0m\u001B[0;34m\u001B[0m\u001B[0;34m\u001B[0m\u001B[0m\n\u001B[1;32m     36\u001B[0m         \u001B[0mopt\u001B[0m\u001B[0;34m.\u001B[0m\u001B[0mstep\u001B[0m\u001B[0;34m(\u001B[0m\u001B[0;34m)\u001B[0m\u001B[0;34m\u001B[0m\u001B[0;34m\u001B[0m\u001B[0m\n",
      "\u001B[0;32m/usr/lib/python3/dist-packages/torch/nn/modules/module.py\u001B[0m in \u001B[0;36m_call_impl\u001B[0;34m(self, *input, **kwargs)\u001B[0m\n\u001B[1;32m   1122\u001B[0m         \u001B[0;32mreturn\u001B[0m \u001B[0mresult\u001B[0m\u001B[0;34m\u001B[0m\u001B[0;34m\u001B[0m\u001B[0m\n\u001B[1;32m   1123\u001B[0m \u001B[0;34m\u001B[0m\u001B[0m\n\u001B[0;32m-> 1124\u001B[0;31m     \u001B[0;32mdef\u001B[0m \u001B[0m_call_impl\u001B[0m\u001B[0;34m(\u001B[0m\u001B[0mself\u001B[0m\u001B[0;34m,\u001B[0m \u001B[0;34m*\u001B[0m\u001B[0minput\u001B[0m\u001B[0;34m,\u001B[0m \u001B[0;34m**\u001B[0m\u001B[0mkwargs\u001B[0m\u001B[0;34m)\u001B[0m\u001B[0;34m:\u001B[0m\u001B[0;34m\u001B[0m\u001B[0;34m\u001B[0m\u001B[0m\n\u001B[0m\u001B[1;32m   1125\u001B[0m         \u001B[0mforward_call\u001B[0m \u001B[0;34m=\u001B[0m \u001B[0;34m(\u001B[0m\u001B[0mself\u001B[0m\u001B[0;34m.\u001B[0m\u001B[0m_slow_forward\u001B[0m \u001B[0;32mif\u001B[0m \u001B[0mtorch\u001B[0m\u001B[0;34m.\u001B[0m\u001B[0m_C\u001B[0m\u001B[0;34m.\u001B[0m\u001B[0m_get_tracing_state\u001B[0m\u001B[0;34m(\u001B[0m\u001B[0;34m)\u001B[0m \u001B[0;32melse\u001B[0m \u001B[0mself\u001B[0m\u001B[0;34m.\u001B[0m\u001B[0mforward\u001B[0m\u001B[0;34m)\u001B[0m\u001B[0;34m\u001B[0m\u001B[0;34m\u001B[0m\u001B[0m\n\u001B[1;32m   1126\u001B[0m         \u001B[0;31m# If we don't have any hooks, we want to skip the rest of the logic in\u001B[0m\u001B[0;34m\u001B[0m\u001B[0;34m\u001B[0m\u001B[0m\n",
      "\u001B[0;31mKeyboardInterrupt\u001B[0m: "
     ]
    }
   ],
   "source": [
    "# restriction: # params < input size, D=64/17500 32/25000\n",
    "model, tr_losses, val_losses, A = train(0, 8, 2500, 0, 10, 1)\n",
    "_, _, rel = test(model, A)\n",
    "plot(tr_losses, val_losses)\n",
    "hist(rel)"
   ],
   "metadata": {
    "collapsed": false,
    "ExecuteTime": {
     "end_time": "2023-05-11T01:45:22.394036600Z",
     "start_time": "2023-05-11T01:45:09.640776100Z"
    }
   }
  },
  {
   "cell_type": "code",
   "execution_count": 83,
   "outputs": [
    {
     "name": "stdout",
     "output_type": "stream",
     "text": [
      "Max dim zeroed: 0\n",
      "[87.5, 93.81443298969072, 91.72413793103448, 94.30051813471503, 94.6058091286307, 87.88927335640139, 97.62611275964392, 92.20779220779221, 94.45727482678984, 95.850622406639]\n",
      "[2.8296400441063776, 1.9196169716971263, 1.4801279703776042, 0.8960322329872533, 0.8511543273925781, 2.6768742775430487, 1.6029198964436848, 1.5149267096268504, 0.4709157076748935, 0.9337506975446429]\n",
      "Max dim zeroed: 1\n",
      "[92.24137931034483, 92.25806451612904, 92.53945480631278, 93.32615715823465, 90.18087855297158, 91.67264895908112, 89.23739237392374, 88.96663078579118, 92.87081339712918, 92.24806201550388]\n",
      "[1.124637881372562, 0.21265029907226565, 1.092652713551241, 0.5532809666224888, 0.8568412379214638, 0.869565691266741, 0.792229175567627, 1.1893819173177085, 0.5643226601983193, 0.8065223693847656]\n",
      "Max dim zeroed: 2\n",
      "[89.3581081081081, 88.42905405405406, 85.8108108108108, 85.26182432432432, 87.73648648648648, 84.09346846846847, 82.86679536679536, 83.86824324324324, 87.36861861861863, 86.2331081081081]\n",
      "[1.0490523444281685, 0.2705764421176561, 1.2150456355168269, 0.5929014736548401, 0.30122995376586914, 0.7776103326648864, 0.6292683737618583, 0.5201754286953304, 0.5491320292154948, 0.3058071794181035]\n",
      "Max dim zeroed: 3\n",
      "[88.35680751173709, 84.09197559831065, 81.47684605757196, 82.11687397324572, 72.75628989861059, 74.98044124550148, 76.95815450643777, 81.11945552687163, 84.35381245436528, 80.36049568156216]\n",
      "[0.5085839165581597, 0.11822898285100102, 0.4209597905476888, 0.6051260327535962, 1.635319391886393, 1.3232011061448317, 0.5677541097005208, 0.25412734897657374, 0.4278213258773562, 0.622957403009588]\n",
      "Max dim zeroed: 4\n",
      "[85.10919920582396, 81.3368630046327, 77.18949922788441, 75.76108537392456, 81.52217074784912, 78.14912861239797, 74.45400397088021, 77.92852415618795, 76.78505772483271, 75.48643282594308]\n",
      "[0.8660793304443359, 0.34345480111929083, 0.7610155188519022, 0.16654133796691895, 0.3166785606971154, 1.3718807336055872, 1.065190633138021, 1.3957977294921875, 0.5968313950758715, 0.3853797912597656]\n",
      "Max dim zeroed: 5\n",
      "[83.73759647188534, 76.10253583241456, 68.66960676221977, 61.990077177508276, 59.294377067254686, 63.37743476662992, 65.87382846341654, 70.13300254978981, 70.2052067381317, 77.67793152875021]\n",
      "[0.7041499193976908, 0.9320906564301135, 1.0398396780324537, 4.281282153996554, 6.163823298918895, 1.848778357872596, 1.4775898145592732, 1.214184079851423, 0.9596124891157122, 0.6619575696113782]\n",
      "Max dim zeroed: 6\n",
      "[81.1734693877551, 71.5743812196989, 59.83327662470228, 57.54018882367951, 52.005716035521075, 51.07595475036148, 46.67541557305337, 59.67464114832536, 54.15934221718174, 64.41257527814636]\n",
      "[0.6100365016014064, 2.1053314208984375, 6.5303651250974095, 6.537372761202933, 9.038613059303978, 9.576722553798131, 12.259603801526522, 3.9049784342447915, 6.93033117997019, 1.3071793776292067]\n",
      "Max dim zeroed: 7\n",
      "[79.92027902341803, 70.81983553451283, 56.22196378135903, 50.80986792923, 44.70693779904306, 42.1463576709029, 43.00462798148808, 41.23107594542396, 49.723114409126154, 63.053229665071775]\n",
      "[1.149871826171875, 2.660460221140008, 7.467791908665706, 9.61206905425541, 12.551549826898881, 14.514251991554541, 14.627103452329282, 17.174321954900567, 10.372028350830078, 0.536550794328962]\n",
      "Max dim zeroed: 8\n",
      "[79.86111111111111, 54.2793351525676, 41.82239126839755, 37.963537144983256, 32.61559833300258, 26.05424177277989, 36.85590757672408, 54.88992248062016, 38.098125689084895, 41.312760468346895]\n",
      "[1.546932986162398, 8.332215978744182, 15.789532661437988, 14.590796108903556, 20.538245711373143, 21.468209077958626, 18.904601421552837, 6.83495839436849, 18.378955125808716, 26.38681311356394]\n",
      "Max dim zeroed: 9\n",
      "[79.47446703024293, 52.4671460451277, 38.65101669697471, 35.46987354326804, 28.754215433445747, 23.79535498801554, 27.31845554374779, 26.675345607835844, 32.85761516420542, 6.893473517159293]\n",
      "[1.5782729439113452, 9.025011564555921, 13.835410021860664, 16.1737356808587, 20.148953758754907, 24.01906422206334, 23.3566630970348, 26.74978468153212, 23.239803832510244, 70.57710886001587]\n"
     ]
    }
   ],
   "source": [
    "for max_dim in range(10):\n",
    "    print(f'Max dim zeroed: {max_dim}')\n",
    "    accs = []\n",
    "    meds = []\n",
    "    for proportion in [0.1, 0.2, 0.3, 0.4, 0.5, 0.6, 0.7, 0.8, 0.9, 1.0]:\n",
    "        random.seed(0)\n",
    "        MAX_DIM_ZEROED = max_dim\n",
    "        PROPORTION = proportion\n",
    "        TRAIN_SIZE = 0.6\n",
    "        VAL_SIZE = 0.2\n",
    "\n",
    "        total_size = sum([G.size(i) for i in range(MAX_DIM_ZEROED + 1)])\n",
    "        zero_out = random.sample(list(range(total_size)), int(total_size * PROPORTION))\n",
    "        N = len(zero_out)\n",
    "        X = Y.clone().detach().to(device=device, dtype=torch.float32)\n",
    "        X[zero_out] = 0\n",
    "\n",
    "        train_mask = zero_out[:int(N * TRAIN_SIZE)]\n",
    "        val_mask = zero_out[int(N * TRAIN_SIZE):int(N * (TRAIN_SIZE + VAL_SIZE))]\n",
    "        test_mask = zero_out[int(N * (TRAIN_SIZE + VAL_SIZE)):]\n",
    "\n",
    "        model, tr_losses, val_losses, A = train(0, 8, 10000, -1, 10, 1)\n",
    "        acc, _, rel = test(model, A, logging=0)\n",
    "        accs.append(acc)\n",
    "        meds.append(np.median(rel))\n",
    "    print(accs)\n",
    "    print(meds)"
   ],
   "metadata": {
    "collapsed": false,
    "ExecuteTime": {
     "end_time": "2023-05-11T01:04:26.200420100Z",
     "start_time": "2023-05-10T21:32:56.082448700Z"
    }
   }
  },
  {
   "cell_type": "code",
   "execution_count": 46,
   "outputs": [
    {
     "data": {
      "text/plain": "<Figure size 648x432 with 1 Axes>",
      "image/png": "[encoded data removed]"
     },
     "metadata": {
      "needs_background": "light"
     },
     "output_type": "display_data"
    }
   ],
   "source": [
    "#D=32\n",
    "# accs = [91.22,89.61, 87.05, 89.27, 85.20, 89.25, 90.44, 87.23, 87.86, 89.98]\n",
    "# meds = [0.09,0.11, 0.36, 0.19, 0.24, 0.17, 0.22, 0.20, 0.27, 0.32 ]\n",
    "xs = [10, 20, 30, 40, 50, 60, 70, 80, 90, 100]\n",
    "plt.plot(xs, accs)\n",
    "plt.xlabel('% of data zeroed out')\n",
    "plt.ylabel('%Accuracy % (less than 10% relative error)')\n",
    "plt.title(f'Accuracy vs. % of data (first 3 dimensions) zeroed out')\n",
    "plt.show()"
   ],
   "metadata": {
    "collapsed": false,
    "ExecuteTime": {
     "end_time": "2023-05-05T04:25:31.018186200Z",
     "start_time": "2023-05-05T04:25:30.868568100Z"
    }
   }
  },
  {
   "cell_type": "code",
   "execution_count": null,
   "outputs": [],
   "source": [],
   "metadata": {
    "collapsed": false
   }
  }
 ],
 "metadata": {
  "kernelspec": {
   "display_name": "Python 3",
   "language": "python",
   "name": "python3"
  },
  "language_info": {
   "codemirror_mode": {
    "name": "ipython",
    "version": 2
   },
   "file_extension": ".py",
   "mimetype": "text/x-python",
   "name": "python",
   "nbconvert_exporter": "python",
   "pygments_lexer": "ipython2",
   "version": "2.7.6"
  }
 },
 "nbformat": 4,
 "nbformat_minor": 0
}
